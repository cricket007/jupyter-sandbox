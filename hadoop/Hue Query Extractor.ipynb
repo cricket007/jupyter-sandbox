{
 "cells": [
  {
   "cell_type": "code",
   "execution_count": 39,
   "metadata": {
    "collapsed": true
   },
   "outputs": [],
   "source": [
    "import json\n",
    "from pprint import pprint\n",
    "\n",
    "export_path = \"/Users/moorejm/Downloads/hue-documents-2017-03-16-(20).json\"\n",
    "output_dir = \"/Users/moorejm/Downloads/michaels_deliverables/impala_scripts/\""
   ]
  },
  {
   "cell_type": "code",
   "execution_count": 42,
   "metadata": {
    "collapsed": false
   },
   "outputs": [
    {
     "name": "stdout",
     "output_type": "stream",
     "text": [
      "INSERT INTO table yyyymmdd_output\n",
      "[parquet] INSERT prt_win_store_repl_msi\n",
      "[parquet] INSERT prt_currencies\n",
      "[parquet] INSERT prt_price_hist\n",
      "[parquet] INSERT prt_sku_zone_superdetail_msi\n",
      "[parquet] INSERT prt_sup_zone_group_loc_msi\n",
      "[parquet] INSERT prt_tran_data_interface_msi\n",
      "[parquet] INSERT code_detail\n",
      "[parquet] INSERT prt_price_hist\n",
      "[parquet] INSERT admin_org_loc_dm\n",
      "Pro*C Cursor c_globals\n",
      "CREATE VIEW f_i_repl_actv_flg\n",
      "Query Y or N repl_flag\n",
      "[parquet] INSERT prt_desc_look\n",
      "Pro*C Cursor c_driver\n",
      "[parquet] INSERT admin_prod_sku_dm\n",
      "[parquet] INSERT admin_time_day_dm\n",
      "[parquet] INSERT prt_sku_zone_superdetail_msi\n",
      "final output v2\n",
      "final output sls_0\n"
     ]
    }
   ],
   "source": [
    "with open(export_path) as f:\n",
    "    data = json.load(f)\n",
    "    \n",
    "    for notebook in data:\n",
    "        fields = notebook['fields']\n",
    "        name = fields['name']\n",
    "        metadata = json.loads(fields['data'])\n",
    "#         print pprint(metadata)\n",
    "        query = str(metadata['snippets'][0]['statement_raw'])\n",
    "        \n",
    "        print name\n",
    "        with open(output_dir + name + \".sql\", 'w') as out:\n",
    "            out.write(query)\n",
    "\n"
   ]
  },
  {
   "cell_type": "code",
   "execution_count": null,
   "metadata": {
    "collapsed": true
   },
   "outputs": [],
   "source": []
  }
 ],
 "metadata": {
  "kernelspec": {
   "display_name": "Python 2",
   "language": "python",
   "name": "python2"
  },
  "language_info": {
   "codemirror_mode": {
    "name": "ipython",
    "version": 2
   },
   "file_extension": ".py",
   "mimetype": "text/x-python",
   "name": "python",
   "nbconvert_exporter": "python",
   "pygments_lexer": "ipython2",
   "version": "2.7.13"
  }
 },
 "nbformat": 4,
 "nbformat_minor": 2
}
