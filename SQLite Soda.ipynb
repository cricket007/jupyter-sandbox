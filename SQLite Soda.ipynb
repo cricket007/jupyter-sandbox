{
 "cells": [
  {
   "cell_type": "code",
   "execution_count": 38,
   "metadata": {
    "collapsed": false
   },
   "outputs": [],
   "source": [
    "import sqlite3 \n",
    "db = sqlite3.connect('drinkstore.sqlite3')\n",
    "\n",
    "def add_drink(name, price, amount):\n",
    "    cur = db.cursor()\n",
    "    cur.execute('INSERT INTO drinkstore VALUES (?,?,?)', (name, price, amount,))\n",
    "    db.commit()\n",
    "    cur.close()\n",
    "\n",
    "def init_db():\n",
    "    cur = db.cursor()\n",
    "    cur.execute('''CREATE TABLE IF NOT EXISTS drinkstore\n",
    "                (Product TEXT PRIMARY KEY unique,\n",
    "                Price TEXT,\n",
    "                AmountAvailable INTEGER)''') \n",
    "\n",
    "    cur.execute('''CREATE TABLE IF NOT EXISTS receipt\n",
    "        (Product TEXT PRIMARY KEY unique,\n",
    "        Price INTEGER,\n",
    "        AmountBought INTEGER,\n",
    "        Total INTEGER)''')\n",
    "    db.commit()\n",
    "    cur.close()\n",
    "        \n",
    "init_db()\n",
    "add_drink('coke', 2.5, 10)\n",
    "add_drink('sprite', 2, 8)\n",
    "add_drink('fanta', 2.3, 20)"
   ]
  },
  {
   "cell_type": "code",
   "execution_count": 51,
   "metadata": {
    "collapsed": false
   },
   "outputs": [
    {
     "name": "stdout",
     "output_type": "stream",
     "text": [
      "What drink do you want? coke\n",
      "How many do you want3\n",
      "(10, 'coke')\n"
     ]
    }
   ],
   "source": [
    "\n",
    "drink = input(\"What drink do you want? \") # drink is an ID in this case so a number, for example 55555555\n",
    "stock = input(\"How many do you want\")\n",
    "\n",
    "cur = db.cursor()\n",
    "cur.execute(\"\"\"SELECT AmountAvailable, Product FROM drinkstore WHERE Product = ?\"\"\", (drink,))\n",
    "\n",
    "AmountAvailable_old, product= cur.fetchone()\n",
    "AmountAvailable_old, product = AmountAvailable_old \n",
    "newstock = int(AmountAvailable_old) - int(stock)"
   ]
  },
  {
   "cell_type": "code",
   "execution_count": 52,
   "metadata": {
    "collapsed": false
   },
   "outputs": [
    {
     "name": "stderr",
     "output_type": "stream",
     "text": [
      "ERROR:root:An unexpected error occurred while tokenizing input\n",
      "The following traceback may be corrupted or invalid\n",
      "The error message is: ('EOF in multi-line string', (1, 33))\n",
      "\n"
     ]
    },
    {
     "ename": "IntegrityError",
     "evalue": "UNIQUE constraint failed: receipt.Product",
     "output_type": "error",
     "traceback": [
      "\u001b[0;31m---------------------------------------------------------------------------\u001b[0m",
      "\u001b[0;31mIntegrityError\u001b[0m                            Traceback (most recent call last)",
      "\u001b[0;32m<ipython-input-52-7db30abc40e1>\u001b[0m in \u001b[0;36m<module>\u001b[0;34m()\u001b[0m\n\u001b[1;32m      1\u001b[0m cur.execute(\"\"\"INSERT INTO receipt (Product, Price) \n\u001b[1;32m      2\u001b[0m                 \u001b[0mSELECT\u001b[0m \u001b[0mProduct\u001b[0m\u001b[0;34m,\u001b[0m \u001b[0mPrice\u001b[0m \u001b[0mFROM\u001b[0m \u001b[0mdrinkstore\u001b[0m\u001b[0;34m\u001b[0m\u001b[0m\n\u001b[0;32m----> 3\u001b[0;31m                 WHERE Product = ?\"\"\", (drink,)) \n\u001b[0m\u001b[1;32m      4\u001b[0m \u001b[0;34m\u001b[0m\u001b[0m\n\u001b[1;32m      5\u001b[0m \u001b[0;31m# AmountAvailable_old = cur.fetchone()\u001b[0m\u001b[0;34m\u001b[0m\u001b[0;34m\u001b[0m\u001b[0m\n",
      "\u001b[0;31mIntegrityError\u001b[0m: UNIQUE constraint failed: receipt.Product"
     ]
    }
   ],
   "source": [
    "cur.execute(\"\"\"INSERT INTO receipt (Product, Price) \n",
    "                SELECT Product, Price FROM drinkstore\n",
    "                WHERE Product = ?\"\"\", (drink,)) \n",
    "\n",
    "# AmountAvailable_old = cur.fetchone()\n",
    "# print(AmountAvailable_old)"
   ]
  },
  {
   "cell_type": "code",
   "execution_count": 53,
   "metadata": {
    "collapsed": true
   },
   "outputs": [],
   "source": [
    "cur.close()\n",
    "db.commit()"
   ]
  },
  {
   "cell_type": "code",
   "execution_count": null,
   "metadata": {
    "collapsed": true
   },
   "outputs": [],
   "source": []
  }
 ],
 "metadata": {
  "kernelspec": {
   "display_name": "Python 3",
   "language": "python",
   "name": "python3"
  },
  "language_info": {
   "codemirror_mode": {
    "name": "ipython",
    "version": 3
   },
   "file_extension": ".py",
   "mimetype": "text/x-python",
   "name": "python",
   "nbconvert_exporter": "python",
   "pygments_lexer": "ipython3",
   "version": "3.6.0"
  }
 },
 "nbformat": 4,
 "nbformat_minor": 2
}
