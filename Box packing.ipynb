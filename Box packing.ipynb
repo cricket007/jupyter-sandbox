{
 "cells": [
  {
   "cell_type": "code",
   "execution_count": 1,
   "metadata": {
    "collapsed": false
   },
   "outputs": [],
   "source": [
    "from pyomo.environ import *\n",
    "from pyomo.opt import SolverFactory\n",
    "from pyomo.core import Var\n",
    "\n",
    "M = AbstractModel()\n",
    "opt = SolverFactory('glpk')"
   ]
  },
  {
   "cell_type": "code",
   "execution_count": 2,
   "metadata": {
    "collapsed": false
   },
   "outputs": [],
   "source": [
    "# Sets\n",
    "M.Box = Set()\n",
    "M.Type = Set()"
   ]
  },
  {
   "cell_type": "code",
   "execution_count": 3,
   "metadata": {
    "collapsed": false
   },
   "outputs": [],
   "source": [
    "# Paramters\n",
    "M.BoxLimits = Param(M.Box, M.Type, within=NonNegativeIntegers)\n",
    "M.BoxCapacity = Param(M.Box, within=NonNegativeIntegers)\n",
    "M.TotalTypes = Param(M.Type, within=NonNegativeIntegers)"
   ]
  },
  {
   "cell_type": "code",
   "execution_count": 4,
   "metadata": {
    "collapsed": false
   },
   "outputs": [],
   "source": [
    "# Variables\n",
    "M.Packing = Var(M.Box, M.Type, within=NonNegativeIntegers)\n",
    "# M.BoxUsed = Var(M.Box, within=Binary, initialize=0)"
   ]
  },
  {
   "cell_type": "code",
   "execution_count": 9,
   "metadata": {
    "collapsed": false
   },
   "outputs": [
    {
     "name": "stdout",
     "output_type": "stream",
     "text": [
      "WARNING: Implicitly replacing the Component attribute UsedSpace (type=<class 'pyomo.core.base.objective.SimpleObjective'>) on block unknown with a new Component (type=<class 'pyomo.core.base.objective.SimpleObjective'>).\n",
      "\tThis is usually indicative of a modelling error.\n",
      "\tTo avoid this warning, use block.del_component() and block.add_component().\n"
     ]
    }
   ],
   "source": [
    "# Objective\n",
    "def MaximizeUsedSpace(M):\n",
    "    return sum(M.Packing[b,t] for b in M.Box for t in M.Type)\n",
    "#     amount = 0\n",
    "#     for b in M.Box:\n",
    "#         capacity = M.BoxCapacity[b]\n",
    "#         amount += sum(M.Packing[b,t]*M.BoxLimits[b,t]/capacity for t in M.Type)\n",
    "#     return amount\n",
    "\n",
    "# M.UsedSpace = Objective(rule=MaximizeUsedSpace, sense=maximize)\n",
    "\n",
    "def MinimizeRemainingSpace(M):\n",
    "    space_left = sum(M.BoxCapacity[b] for b in M.Box)\n",
    "    for b in M.Box:\n",
    "        space_left -= sum(M.Packing[b,t] for t in M.Type)\n",
    "    return space_left\n",
    "M.UsedSpace = Objective(rule=MinimizeRemainingSpace, sense=minimize)"
   ]
  },
  {
   "cell_type": "code",
   "execution_count": 6,
   "metadata": {
    "collapsed": false
   },
   "outputs": [],
   "source": [
    "# Constraints\n",
    "def EnsureTotalTypes(M,t):\n",
    "    return M.TotalTypes[t] == sum(M.Packing[b,t] for b in M.Box)\n",
    "M.EnsureTotals = Constraint(M.Type, rule=EnsureTotalTypes)\n",
    "\n",
    "def EnsureBoxTypeLimit(M,b,t):\n",
    "    return M.Packing[b,t] <= M.BoxLimits[b,t]\n",
    "M.EnsureBoxTypeLimit = Constraint(M.Box, M.Type, rule=EnsureBoxTypeLimit)\n",
    "\n",
    "def EnsureCapacity(M,b):\n",
    "    return sum(M.Packing[b,t] for t in M.Type) <= M.BoxCapacity[b]\n",
    "M.EnsureCapacity = Constraint(M.Box, rule=EnsureCapacity)\n",
    "\n",
    "# def ForceBoxUsed(M,b):\n",
    "#     amount = sum(M.Packing[b,t] for t in M.Type)\n",
    "#     if sum(M.Packing[b,t] for t in M.Type) == 0:\n",
    "#         return M.BoxUsed[b] == 0\n",
    "#     else:\n",
    "#         return M.BoxUsed[b] == 1\n",
    "# M.ForceBoxUsed = Constraint(M.Box, rule=ForceBoxUsed)\n",
    "\n",
    "# def ForceBoxUnused(M,b):\n",
    "#     return M.BoxUsed[b] == 0 and sum(M.Packing[b,t] for t in M.Type) == 0\n",
    "# M.ForceBoxUnused = Constraint(M.Box, rule=ForceBoxUnused)"
   ]
  },
  {
   "cell_type": "code",
   "execution_count": 7,
   "metadata": {
    "collapsed": false
   },
   "outputs": [
    {
     "name": "stdout",
     "output_type": "stream",
     "text": [
      "GLPSOL: GLPK LP/MIP Solver, v4.57\n",
      "Parameter(s) specified in the command line:\n",
      " --write /var/folders/fn/qz4yf0fx109ck2tsf5l__43c0000gn/T/tmptdayr469.glpk.raw\n",
      " --wglp /var/folders/fn/qz4yf0fx109ck2tsf5l__43c0000gn/T/tmpmgoxo_yx.glpk.glp\n",
      " --cpxlp /var/folders/fn/qz4yf0fx109ck2tsf5l__43c0000gn/T/tmpxrdwkmlf.pyomo.lp\n",
      "Reading problem data from '/var/folders/fn/qz4yf0fx109ck2tsf5l__43c0000gn/T/tmpxrdwkmlf.pyomo.lp'...\n",
      "15 rows, 9 columns, 25 non-zeros\n",
      "8 integer variables, none of which are binary\n",
      "103 lines were read\n",
      "Writing problem data to '/var/folders/fn/qz4yf0fx109ck2tsf5l__43c0000gn/T/tmpmgoxo_yx.glpk.glp'...\n",
      "84 lines were written\n",
      "GLPK Integer Optimizer, v4.57\n",
      "15 rows, 9 columns, 25 non-zeros\n",
      "8 integer variables, none of which are binary\n",
      "Preprocessing...\n",
      "6 rows, 8 columns, 16 non-zeros\n",
      "8 integer variables, one of which is binary\n",
      "Scaling...\n",
      " A: min|aij| =  1.000e+00  max|aij| =  1.000e+00  ratio =  1.000e+00\n",
      "Problem data seem to be well scaled\n",
      "Constructing initial basis...\n",
      "Size of triangular part is 6\n",
      "Solving LP relaxation...\n",
      "GLPK Simplex Optimizer, v4.57\n",
      "6 rows, 8 columns, 16 non-zeros\n",
      "      0: obj =   1.300000000e+01 inf =   1.700e+01 (3)\n",
      "      4: obj =   1.300000000e+01 inf =   0.000e+00 (0)\n",
      "OPTIMAL LP SOLUTION FOUND\n",
      "Integer optimization begins...\n",
      "+     4: mip =     not found yet <=              +inf        (1; 0)\n",
      "+     4: >>>>>   1.300000000e+01 <=   1.300000000e+01   0.0% (1; 0)\n",
      "+     4: mip =   1.300000000e+01 <=     tree is empty   0.0% (0; 1)\n",
      "INTEGER OPTIMAL SOLUTION FOUND\n",
      "Time used:   0.0 secs\n",
      "Memory used: 0.0 Mb (51058 bytes)\n",
      "Writing MIP solution to '/var/folders/fn/qz4yf0fx109ck2tsf5l__43c0000gn/T/tmptdayr469.glpk.raw'...\n",
      "26 lines were written\n",
      "# ==========================================================\n",
      "# = Solver Results                                         =\n",
      "# ==========================================================\n",
      "# ----------------------------------------------------------\n",
      "#   Problem Information\n",
      "# ----------------------------------------------------------\n",
      "Problem: \n",
      "- Name: unknown\n",
      "  Lower bound: 13.0\n",
      "  Upper bound: 13.0\n",
      "  Number of objectives: 1\n",
      "  Number of constraints: 15\n",
      "  Number of variables: 9\n",
      "  Number of nonzeros: 25\n",
      "  Sense: maximize\n",
      "# ----------------------------------------------------------\n",
      "#   Solver Information\n",
      "# ----------------------------------------------------------\n",
      "Solver: \n",
      "- Status: ok\n",
      "  Termination condition: optimal\n",
      "  Statistics: \n",
      "    Branch and bound: \n",
      "      Number of bounded subproblems: 1\n",
      "      Number of created subproblems: 1\n",
      "  Error rc: 0\n",
      "  Time: 0.017174959182739258\n",
      "# ----------------------------------------------------------\n",
      "#   Solution Information\n",
      "# ----------------------------------------------------------\n",
      "Solution: \n",
      "- number of solutions: 0\n",
      "  number of solutions displayed: 0\n"
     ]
    }
   ],
   "source": [
    "instance = M.create_instance('data/containers.dat')\n",
    "results = opt.solve(instance, tee=True)\n",
    "results.write()\n",
    "instance.solutions.load_from(results)"
   ]
  },
  {
   "cell_type": "code",
   "execution_count": 8,
   "metadata": {
    "collapsed": false
   },
   "outputs": [
    {
     "name": "stdout",
     "output_type": "stream",
     "text": [
      "Variable Packing\n",
      "    ('box2', 'Normal') 1.0\n",
      "    ('box2', 'Rare') 3.0\n",
      "    ('box4', 'Normal') 3.0\n",
      "    ('box4', 'Rare') 1.0\n",
      "    ('box3', 'Normal') 0.0\n",
      "    ('box3', 'Rare') 0.0\n",
      "    ('box1', 'Normal') 4.0\n",
      "    ('box1', 'Rare') 1.0\n"
     ]
    }
   ],
   "source": [
    "for v in instance.component_objects(Var, active=True):\n",
    "    print (\"Variable\",v)\n",
    "    varobject = getattr(instance, str(v))\n",
    "    for index in varobject:\n",
    "        print (\"   \",index, varobject[index].value)"
   ]
  },
  {
   "cell_type": "code",
   "execution_count": null,
   "metadata": {
    "collapsed": true
   },
   "outputs": [],
   "source": []
  }
 ],
 "metadata": {
  "kernelspec": {
   "display_name": "Python 3",
   "language": "python",
   "name": "python3"
  },
  "language_info": {
   "codemirror_mode": {
    "name": "ipython",
    "version": 3
   },
   "file_extension": ".py",
   "mimetype": "text/x-python",
   "name": "python",
   "nbconvert_exporter": "python",
   "pygments_lexer": "ipython3",
   "version": "3.5.2"
  }
 },
 "nbformat": 4,
 "nbformat_minor": 0
}
